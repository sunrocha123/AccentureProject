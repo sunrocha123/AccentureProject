{
 "metadata": {
  "language_info": {
   "codemirror_mode": {
    "name": "ipython",
    "version": 3
   },
   "file_extension": ".py",
   "mimetype": "text/x-python",
   "name": "python",
   "nbconvert_exporter": "python",
   "pygments_lexer": "ipython3",
   "version": "3.9.0-final"
  },
  "orig_nbformat": 2,
  "kernelspec": {
   "name": "python3",
   "display_name": "Python 3.9.0 64-bit ('3.9.0')",
   "metadata": {
    "interpreter": {
     "hash": "e7aa66d7f0f7a1acb6d48c3392a8572e874ef7e3f8752aaf6da24a4238d08cbc"
    }
   }
  }
 },
 "nbformat": 4,
 "nbformat_minor": 2,
 "cells": [
  {
   "cell_type": "code",
   "execution_count": 1,
   "metadata": {},
   "outputs": [
    {
     "output_type": "stream",
     "name": "stderr",
     "text": [
      "/home/deive/.pyenv/versions/3.9.0/lib/python3.9/site-packages/pandas/compat/__init__.py:97: UserWarning: Could not import the lzma module. Your installed Python is incomplete. Attempting to use lzma compression will result in a RuntimeError.\n  warnings.warn(msg)\n"
     ]
    }
   ],
   "source": [
    "import requests\n",
    "import json\n",
    "import pandas as pd"
   ]
  },
  {
   "cell_type": "code",
   "execution_count": 2,
   "metadata": {},
   "outputs": [],
   "source": [
    "__url_by_country = \"https://api.covid19api.com/total/country/{0}\"\n",
    "__payload = {}\n",
    "__headers= {}\n",
    "__countries = ['Afghanistan', 'Albania', 'Algeria', 'Andorra', 'Angola', 'Antigua and Barbuda',\n",
    " 'Argentina', 'Armenia', 'Australia', 'Austria', 'Azerbaijan', 'Bahamas', 'Bahrain', 'Bangladesh',\n",
    " 'Barbados', 'Belarus', 'Belgium', 'Belize', 'Benin', 'Bhutan', 'Bolivia', 'Bosnia and Herzegovina',\n",
    " 'Botswana', 'Brazil', 'Brunei Darussalam', 'Bulgaria', 'Burkina Faso', 'Burundi', 'Cambodia',\n",
    " 'Cameroon', 'Canada', 'Cape Verde', 'Central African Republic', 'Chad', 'Chile', 'China', 'Colombia',\n",
    " 'Comoros', 'Congo (Brazzaville)', 'Congo (Kinshasa)', 'Costa Rica', 'Croatia', 'Cuba', 'Cyprus',\n",
    " 'Czech Republic', \"Côte d'Ivoire\", 'Denmark', 'Djibouti', 'Dominica', 'Dominican Republic', 'Ecuador',\n",
    " 'Egypt', 'El Salvador', 'Equatorial Guinea', 'Eritrea', 'Estonia', 'Ethiopia', 'Fiji', 'Finland',\n",
    " 'France', 'Gabon', 'Gambia', 'Georgia', 'Germany', 'Ghana', 'Greece', 'Grenada', 'Guatemala', 'Guinea',\n",
    " 'Guinea-Bissau', 'Guyana', 'Haiti', 'Holy See (Vatican City State)', 'Honduras', 'Hungary', 'Iceland',\n",
    " 'India', 'Indonesia', 'Iran, Islamic Republic of', 'Iraq', 'Ireland', 'Israel', 'Italy', 'Jamaica',\n",
    " 'Japan', 'Jordan', 'Kazakhstan', 'Kenya', 'Korea (South)', 'Kuwait', 'Kyrgyzstan', 'Lao PDR', 'Latvia',\n",
    " 'Lebanon', 'Lesotho', 'Liberia', 'Libya', 'Liechtenstein', 'Lithuania', 'Luxembourg', 'Macedonia, Republic of', 'Madagascar', 'Malawi', 'Malaysia', 'Maldives', 'Mali', 'Malta', 'Marshall Islands',\n",
    " 'Mauritania', 'Mauritius', 'Mexico', 'Micronesia, Federated States of', 'Moldova', 'Monaco', 'Mongolia',\n",
    " 'Montenegro', 'Morocco', 'Mozambique', 'Myanmar', 'Namibia', 'Nepal', 'Netherlands', 'New Zealand',\n",
    " 'Nicaragua', 'Niger', 'Nigeria', 'Norway', 'Oman', 'Pakistan', 'Palestinian Territory', 'Panama',\n",
    " 'Papua New Guinea', 'Paraguay', 'Peru', 'Philippines', 'Poland', 'Portugal', 'Qatar', 'Republic of Kosovo', 'Romania', 'Russian Federation', 'Rwanda', 'Saint Kitts and Nevis', 'Saint Lucia', 'Saint Vincent and Grenadines', 'Samoa', 'San Marino', 'Sao Tome and Principe', 'Saudi Arabia', 'Senegal',\n",
    " 'Serbia', 'Seychelles', 'Sierra Leone', 'Singapore', 'Slovakia', 'Slovenia', 'Solomon Islands', 'Somalia', 'South Africa', 'South Sudan', 'Spain', 'Sri Lanka', 'Sudan', 'Suriname', 'Swaziland', 'Sweden', 'Switzerland', 'Syrian Arab Republic (Syria)', 'Taiwan, Republic of China', 'Tajikistan', 'Tanzania, United Republic of', 'Thailand', 'Timor-Leste', 'Togo', 'Trinidad and Tobago',\n",
    " 'Tunisia', 'Turkey', 'Uganda', 'Ukraine', 'United Arab Emirates', 'United Kingdom',\n",
    " 'United States of America', 'Uruguay', 'Uzbekistan', 'Vanuatu', 'Venezuela (Bolivarian Republic)',\n",
    " 'Viet Nam', 'Yemen', 'Zambia', 'Zimbabwe']"
   ]
  },
  {
   "cell_type": "code",
   "execution_count": 3,
   "metadata": {},
   "outputs": [
    {
     "output_type": "execute_result",
     "data": {
      "text/plain": [
       "190"
      ]
     },
     "metadata": {},
     "execution_count": 3
    }
   ],
   "source": [
    "len(__countries)"
   ]
  },
  {
   "cell_type": "code",
   "execution_count": 4,
   "metadata": {},
   "outputs": [],
   "source": [
    "country_data = {}\n",
    "country_ok = []\n",
    "def dados_raw():\n",
    "    for country in range(len(__countries)):\n",
    "        if requests.get(__url_by_country.format(__countries[country])).status_code == 200:\n",
    "            country_data[__countries[country]] = requests.request(\"GET\", __url_by_country.format(__countries[country]), headers=__headers, data = __payload)\n",
    "            country_ok.append(__countries[country])\n",
    "    return country_data"
   ]
  },
  {
   "cell_type": "code",
   "execution_count": 5,
   "metadata": {},
   "outputs": [],
   "source": [
    "raw = dados_raw()"
   ]
  },
  {
   "cell_type": "code",
   "execution_count": 6,
   "metadata": {},
   "outputs": [
    {
     "output_type": "execute_result",
     "data": {
      "text/plain": [
       "{'Afghanistan': <Response [200]>,\n",
       " 'Albania': <Response [200]>,\n",
       " 'Algeria': <Response [200]>,\n",
       " 'Andorra': <Response [200]>,\n",
       " 'Angola': <Response [200]>,\n",
       " 'Antigua and Barbuda': <Response [200]>,\n",
       " 'Argentina': <Response [200]>,\n",
       " 'Armenia': <Response [200]>,\n",
       " 'Australia': <Response [200]>,\n",
       " 'Austria': <Response [200]>,\n",
       " 'Azerbaijan': <Response [200]>,\n",
       " 'Bahamas': <Response [200]>,\n",
       " 'Bahrain': <Response [200]>,\n",
       " 'Bangladesh': <Response [200]>,\n",
       " 'Barbados': <Response [200]>,\n",
       " 'Belarus': <Response [200]>,\n",
       " 'Belgium': <Response [200]>,\n",
       " 'Belize': <Response [200]>,\n",
       " 'Benin': <Response [200]>,\n",
       " 'Bhutan': <Response [200]>,\n",
       " 'Bolivia': <Response [200]>,\n",
       " 'Bosnia and Herzegovina': <Response [200]>,\n",
       " 'Botswana': <Response [200]>,\n",
       " 'Brazil': <Response [200]>,\n",
       " 'Brunei Darussalam': <Response [200]>,\n",
       " 'Bulgaria': <Response [200]>,\n",
       " 'Burkina Faso': <Response [200]>,\n",
       " 'Burundi': <Response [200]>,\n",
       " 'Cambodia': <Response [200]>,\n",
       " 'Cameroon': <Response [200]>,\n",
       " 'Canada': <Response [200]>,\n",
       " 'Cape Verde': <Response [200]>,\n",
       " 'Central African Republic': <Response [200]>,\n",
       " 'Chad': <Response [200]>,\n",
       " 'Chile': <Response [200]>,\n",
       " 'China': <Response [200]>,\n",
       " 'Colombia': <Response [200]>,\n",
       " 'Comoros': <Response [200]>,\n",
       " 'Costa Rica': <Response [200]>,\n",
       " 'Croatia': <Response [200]>,\n",
       " 'Cuba': <Response [200]>,\n",
       " 'Cyprus': <Response [200]>,\n",
       " 'Czech Republic': <Response [200]>,\n",
       " 'Denmark': <Response [200]>,\n",
       " 'Djibouti': <Response [200]>,\n",
       " 'Dominica': <Response [200]>,\n",
       " 'Dominican Republic': <Response [200]>,\n",
       " 'Ecuador': <Response [200]>,\n",
       " 'Egypt': <Response [200]>,\n",
       " 'El Salvador': <Response [200]>,\n",
       " 'Equatorial Guinea': <Response [200]>,\n",
       " 'Eritrea': <Response [200]>,\n",
       " 'Estonia': <Response [200]>,\n",
       " 'Ethiopia': <Response [200]>,\n",
       " 'Fiji': <Response [200]>,\n",
       " 'Finland': <Response [200]>,\n",
       " 'France': <Response [200]>,\n",
       " 'Gabon': <Response [200]>,\n",
       " 'Gambia': <Response [200]>,\n",
       " 'Georgia': <Response [200]>,\n",
       " 'Germany': <Response [200]>,\n",
       " 'Ghana': <Response [200]>,\n",
       " 'Greece': <Response [200]>,\n",
       " 'Grenada': <Response [200]>,\n",
       " 'Guatemala': <Response [200]>,\n",
       " 'Guinea': <Response [200]>,\n",
       " 'Guinea-Bissau': <Response [200]>,\n",
       " 'Guyana': <Response [200]>,\n",
       " 'Haiti': <Response [200]>,\n",
       " 'Honduras': <Response [200]>,\n",
       " 'Hungary': <Response [200]>,\n",
       " 'Iceland': <Response [200]>,\n",
       " 'India': <Response [200]>,\n",
       " 'Indonesia': <Response [200]>,\n",
       " 'Iran, Islamic Republic of': <Response [200]>,\n",
       " 'Iraq': <Response [200]>,\n",
       " 'Ireland': <Response [200]>,\n",
       " 'Israel': <Response [200]>,\n",
       " 'Italy': <Response [200]>,\n",
       " 'Jamaica': <Response [200]>,\n",
       " 'Japan': <Response [200]>,\n",
       " 'Jordan': <Response [200]>,\n",
       " 'Kazakhstan': <Response [200]>,\n",
       " 'Kenya': <Response [200]>,\n",
       " 'Kuwait': <Response [200]>,\n",
       " 'Kyrgyzstan': <Response [200]>,\n",
       " 'Lao PDR': <Response [200]>,\n",
       " 'Latvia': <Response [200]>,\n",
       " 'Lebanon': <Response [200]>,\n",
       " 'Lesotho': <Response [200]>,\n",
       " 'Liberia': <Response [200]>,\n",
       " 'Libya': <Response [200]>,\n",
       " 'Liechtenstein': <Response [200]>,\n",
       " 'Lithuania': <Response [200]>,\n",
       " 'Luxembourg': <Response [200]>,\n",
       " 'Macedonia, Republic of': <Response [200]>,\n",
       " 'Madagascar': <Response [200]>,\n",
       " 'Malawi': <Response [200]>,\n",
       " 'Malaysia': <Response [200]>,\n",
       " 'Maldives': <Response [200]>,\n",
       " 'Mali': <Response [200]>,\n",
       " 'Malta': <Response [200]>,\n",
       " 'Marshall Islands': <Response [200]>,\n",
       " 'Mauritania': <Response [200]>,\n",
       " 'Mauritius': <Response [200]>,\n",
       " 'Mexico': <Response [200]>,\n",
       " 'Micronesia, Federated States of': <Response [200]>,\n",
       " 'Moldova': <Response [200]>,\n",
       " 'Monaco': <Response [200]>,\n",
       " 'Mongolia': <Response [200]>,\n",
       " 'Montenegro': <Response [200]>,\n",
       " 'Morocco': <Response [200]>,\n",
       " 'Mozambique': <Response [200]>,\n",
       " 'Myanmar': <Response [200]>,\n",
       " 'Namibia': <Response [200]>,\n",
       " 'Nepal': <Response [200]>,\n",
       " 'Netherlands': <Response [200]>,\n",
       " 'New Zealand': <Response [200]>,\n",
       " 'Nicaragua': <Response [200]>,\n",
       " 'Niger': <Response [200]>,\n",
       " 'Nigeria': <Response [200]>,\n",
       " 'Norway': <Response [200]>,\n",
       " 'Oman': <Response [200]>,\n",
       " 'Pakistan': <Response [200]>,\n",
       " 'Palestinian Territory': <Response [200]>,\n",
       " 'Panama': <Response [200]>,\n",
       " 'Papua New Guinea': <Response [200]>,\n",
       " 'Paraguay': <Response [200]>,\n",
       " 'Peru': <Response [200]>,\n",
       " 'Philippines': <Response [200]>,\n",
       " 'Poland': <Response [200]>,\n",
       " 'Portugal': <Response [200]>,\n",
       " 'Qatar': <Response [200]>,\n",
       " 'Republic of Kosovo': <Response [200]>,\n",
       " 'Romania': <Response [200]>,\n",
       " 'Russian Federation': <Response [200]>,\n",
       " 'Rwanda': <Response [200]>,\n",
       " 'Saint Kitts and Nevis': <Response [200]>,\n",
       " 'Saint Lucia': <Response [200]>,\n",
       " 'Saint Vincent and Grenadines': <Response [200]>,\n",
       " 'Samoa': <Response [200]>,\n",
       " 'San Marino': <Response [200]>,\n",
       " 'Sao Tome and Principe': <Response [200]>,\n",
       " 'Saudi Arabia': <Response [200]>,\n",
       " 'Senegal': <Response [200]>,\n",
       " 'Serbia': <Response [200]>,\n",
       " 'Seychelles': <Response [200]>,\n",
       " 'Sierra Leone': <Response [200]>,\n",
       " 'Singapore': <Response [200]>,\n",
       " 'Slovakia': <Response [200]>,\n",
       " 'Slovenia': <Response [200]>,\n",
       " 'Solomon Islands': <Response [200]>,\n",
       " 'Somalia': <Response [200]>,\n",
       " 'South Africa': <Response [200]>,\n",
       " 'South Sudan': <Response [200]>,\n",
       " 'Spain': <Response [200]>,\n",
       " 'Sri Lanka': <Response [200]>,\n",
       " 'Sudan': <Response [200]>,\n",
       " 'Suriname': <Response [200]>,\n",
       " 'Swaziland': <Response [200]>,\n",
       " 'Sweden': <Response [200]>,\n",
       " 'Switzerland': <Response [200]>,\n",
       " 'Taiwan, Republic of China': <Response [200]>,\n",
       " 'Tajikistan': <Response [200]>,\n",
       " 'Tanzania, United Republic of': <Response [200]>,\n",
       " 'Thailand': <Response [200]>,\n",
       " 'Timor-Leste': <Response [200]>,\n",
       " 'Togo': <Response [200]>,\n",
       " 'Trinidad and Tobago': <Response [200]>,\n",
       " 'Tunisia': <Response [200]>,\n",
       " 'Turkey': <Response [200]>,\n",
       " 'Uganda': <Response [200]>,\n",
       " 'Ukraine': <Response [200]>,\n",
       " 'United Arab Emirates': <Response [200]>,\n",
       " 'United Kingdom': <Response [200]>,\n",
       " 'United States of America': <Response [200]>,\n",
       " 'Uruguay': <Response [200]>,\n",
       " 'Uzbekistan': <Response [200]>,\n",
       " 'Vanuatu': <Response [200]>,\n",
       " 'Viet Nam': <Response [200]>,\n",
       " 'Yemen': <Response [200]>,\n",
       " 'Zambia': <Response [200]>,\n",
       " 'Zimbabwe': <Response [200]>}"
      ]
     },
     "metadata": {},
     "execution_count": 6
    }
   ],
   "source": [
    "raw"
   ]
  },
  {
   "cell_type": "code",
   "execution_count": 7,
   "metadata": {},
   "outputs": [],
   "source": [
    "data_by_country = {}\n",
    "for country in country_ok:\n",
    "    data_by_country[country] = raw[country].json()"
   ]
  },
  {
   "cell_type": "code",
   "execution_count": 9,
   "metadata": {},
   "outputs": [
    {
     "output_type": "execute_result",
     "data": {
      "text/plain": [
       "dict_keys(['Afghanistan', 'Albania', 'Algeria', 'Andorra', 'Angola', 'Antigua and Barbuda', 'Argentina', 'Armenia', 'Australia', 'Austria', 'Azerbaijan', 'Bahamas', 'Bahrain', 'Bangladesh', 'Barbados', 'Belarus', 'Belgium', 'Belize', 'Benin', 'Bhutan', 'Bolivia', 'Bosnia and Herzegovina', 'Botswana', 'Brazil', 'Brunei Darussalam', 'Bulgaria', 'Burkina Faso', 'Burundi', 'Cambodia', 'Cameroon', 'Canada', 'Cape Verde', 'Central African Republic', 'Chad', 'Chile', 'China', 'Colombia', 'Comoros', 'Costa Rica', 'Croatia', 'Cuba', 'Cyprus', 'Czech Republic', 'Denmark', 'Djibouti', 'Dominica', 'Dominican Republic', 'Ecuador', 'Egypt', 'El Salvador', 'Equatorial Guinea', 'Eritrea', 'Estonia', 'Ethiopia', 'Fiji', 'Finland', 'France', 'Gabon', 'Gambia', 'Georgia', 'Germany', 'Ghana', 'Greece', 'Grenada', 'Guatemala', 'Guinea', 'Guinea-Bissau', 'Guyana', 'Haiti', 'Honduras', 'Hungary', 'Iceland', 'India', 'Indonesia', 'Iran, Islamic Republic of', 'Iraq', 'Ireland', 'Israel', 'Italy', 'Jamaica', 'Japan', 'Jordan', 'Kazakhstan', 'Kenya', 'Kuwait', 'Kyrgyzstan', 'Lao PDR', 'Latvia', 'Lebanon', 'Lesotho', 'Liberia', 'Libya', 'Liechtenstein', 'Lithuania', 'Luxembourg', 'Macedonia, Republic of', 'Madagascar', 'Malawi', 'Malaysia', 'Maldives', 'Mali', 'Malta', 'Marshall Islands', 'Mauritania', 'Mauritius', 'Mexico', 'Micronesia, Federated States of', 'Moldova', 'Monaco', 'Mongolia', 'Montenegro', 'Morocco', 'Mozambique', 'Myanmar', 'Namibia', 'Nepal', 'Netherlands', 'New Zealand', 'Nicaragua', 'Niger', 'Nigeria', 'Norway', 'Oman', 'Pakistan', 'Palestinian Territory', 'Panama', 'Papua New Guinea', 'Paraguay', 'Peru', 'Philippines', 'Poland', 'Portugal', 'Qatar', 'Republic of Kosovo', 'Romania', 'Russian Federation', 'Rwanda', 'Saint Kitts and Nevis', 'Saint Lucia', 'Saint Vincent and Grenadines', 'Samoa', 'San Marino', 'Sao Tome and Principe', 'Saudi Arabia', 'Senegal', 'Serbia', 'Seychelles', 'Sierra Leone', 'Singapore', 'Slovakia', 'Slovenia', 'Solomon Islands', 'Somalia', 'South Africa', 'South Sudan', 'Spain', 'Sri Lanka', 'Sudan', 'Suriname', 'Swaziland', 'Sweden', 'Switzerland', 'Taiwan, Republic of China', 'Tajikistan', 'Tanzania, United Republic of', 'Thailand', 'Timor-Leste', 'Togo', 'Trinidad and Tobago', 'Tunisia', 'Turkey', 'Uganda', 'Ukraine', 'United Arab Emirates', 'United Kingdom', 'United States of America', 'Uruguay', 'Uzbekistan', 'Vanuatu', 'Viet Nam', 'Yemen', 'Zambia', 'Zimbabwe'])"
      ]
     },
     "metadata": {},
     "execution_count": 9
    }
   ],
   "source": [
    "data_by_country.keys()"
   ]
  },
  {
   "cell_type": "code",
   "execution_count": 121,
   "metadata": {},
   "outputs": [
    {
     "output_type": "error",
     "ename": "SyntaxError",
     "evalue": "invalid syntax (<ipython-input-121-1db37c42d0f0>, line 4)",
     "traceback": [
      "\u001b[0;36m  File \u001b[0;32m\"<ipython-input-121-1db37c42d0f0>\"\u001b[0;36m, line \u001b[0;32m4\u001b[0m\n\u001b[0;31m    raw_json[__countries[country]] = [raw[__countries[country]].json()]\u001b[0m\n\u001b[0m                                   ^\u001b[0m\n\u001b[0;31mSyntaxError\u001b[0m\u001b[0;31m:\u001b[0m invalid syntax\n"
     ]
    }
   ],
   "source": [
    "raw_json = {}\n",
    "for country in range(len(__countries)):\n",
    "    raw_json[__countries[country]] = [raw[__countries[country]].json()]\n",
    "raw_json"
   ]
  },
  {
   "cell_type": "code",
   "execution_count": 122,
   "metadata": {},
   "outputs": [
    {
     "output_type": "stream",
     "name": "stdout",
     "text": [
      "Afghanistan\nAlbania\nAlgeria\nAndorra\nAngola\nAntigua and Barbuda\nArgentina\nArmenia\nAustralia\nAustria\nAzerbaijan\nBahamas\nBahrain\nBangladesh\nBarbados\nBelarus\nBelgium\nBelize\nBenin\nBhutan\nBolivia\nBosnia and Herzegovina\nBotswana\nBrazil\nBrunei Darussalam\nBulgaria\nBurkina Faso\nBurundi\nCambodia\nCameroon\nCanada\nCape Verde\nCentral African Republic\nChad\nChile\nChina\nColombia\nComoros\nCongo (Brazzaville)\nCongo (Kinshasa)\nCosta Rica\nCroatia\nCuba\nCyprus\nCzech Republic\nCôte d'Ivoire\nDenmark\nDjibouti\nDominica\nDominican Republic\nEcuador\nEgypt\nEl Salvador\nEquatorial Guinea\nEritrea\nEstonia\nEthiopia\nFiji\nFinland\nFrance\nGabon\nGambia\nGeorgia\nGermany\nGhana\nGreece\nGrenada\nGuatemala\nGuinea\nGuinea-Bissau\nGuyana\nHaiti\nHoly See (Vatican City State)\nHonduras\nHungary\nIceland\nIndia\nIndonesia\nIran, Islamic Republic of\nIraq\nIreland\nIsrael\nItaly\nJamaica\nJapan\nJordan\nKazakhstan\nKenya\nKorea (South)\nKuwait\nKyrgyzstan\nLao PDR\nLatvia\nLebanon\nLesotho\nLiberia\nLibya\nLiechtenstein\nLithuania\nLuxembourg\nMacedonia, Republic of\nMadagascar\nMalawi\nMalaysia\nMaldives\nMali\nMalta\nMarshall Islands\nMauritania\nMauritius\nMexico\nMicronesia, Federated States of\nMoldova\nMonaco\nMongolia\nMontenegro\nMorocco\nMozambique\nMyanmar\nNamibia\nNepal\nNetherlands\nNew Zealand\nNicaragua\nNiger\nNigeria\nNorway\nOman\nPakistan\nPalestinian Territory\nPanama\nPapua New Guinea\nParaguay\nPeru\nPhilippines\nPoland\nPortugal\nQatar\nRepublic of Kosovo\nRomania\nRussian Federation\nRwanda\nSaint Kitts and Nevis\nSaint Lucia\nSaint Vincent and Grenadines\nSamoa\nSan Marino\nSao Tome and Principe\nSaudi Arabia\nSenegal\nSerbia\nSeychelles\nSierra Leone\nSingapore\nSlovakia\nSlovenia\nSolomon Islands\nSomalia\nSouth Africa\nSouth Sudan\nSpain\nSri Lanka\nSudan\nSuriname\nSwaziland\nSweden\nSwitzerland\nSyrian Arab Republic (Syria)\nTaiwan, Republic of China\nTajikistan\nTanzania, United Republic of\nThailand\nTimor-Leste\nTogo\nTrinidad and Tobago\nTunisia\nTurkey\nUganda\nUkraine\nUnited Arab Emirates\nUnited Kingdom\nUnited States of America\nUruguay\nUzbekistan\nVanuatu\nVenezuela (Bolivarian Republic)\nViet Nam\nYemen\nZambia\nZimbabwe\n"
     ]
    }
   ],
   "source": [
    "for country in range(len(__countries)):\n",
    "    print(__countries[country])"
   ]
  },
  {
   "cell_type": "code",
   "execution_count": 120,
   "metadata": {},
   "outputs": [
    {
     "output_type": "execute_result",
     "data": {
      "text/plain": [
       "1"
      ]
     },
     "metadata": {},
     "execution_count": 120
    }
   ],
   "source": [
    "len(raw_json)"
   ]
  },
  {
   "cell_type": "code",
   "execution_count": null,
   "metadata": {},
   "outputs": [],
   "source": [
    "raw_json[4]"
   ]
  },
  {
   "cell_type": "code",
   "execution_count": null,
   "metadata": {
    "tags": []
   },
   "outputs": [],
   "source": [
    "Country = []\n",
    "CountryCode = []\n",
    "Province = []\n",
    "City = []\n",
    "CityCode = []\n",
    "Lat = []\n",
    "Lon = []\n",
    "Confirmed = []\n",
    "Deaths = []\n",
    "Recovered = []\n",
    "Active = []\n",
    "Date = []\n",
    "\n",
    "for pais in range(len(raw_json)):\n",
    "    Country.append(raw_json[pais]['Country'])\n",
    "    CountryCode.append(raw_json[pais]['CountryCode'])\n",
    "    Province.append(raw_json[pais]['Province'])\n",
    "    City.append(raw_json[pais]['City'])\n",
    "    CityCode.append(raw_json[pais]['CityCode'])\n",
    "    Lat.append(raw_json[pais]['Lat'])\n",
    "    Lon.append(raw_json[pais]['Lon'])\n",
    "    Confirmed.append(raw_json[pais]['Confirmed'])\n",
    "    Deaths.append(raw_json[pais]['Deaths'])\n",
    "    Recovered.append(raw_json[pais]['Recovered'])\n",
    "    Active.append(raw_json[pais]['Active'])\n",
    "    Date.append(raw_json[pais]['Date'])\n",
    "\n",
    "for pais in range(len(Country)):\n",
    "    print(f\"Country: {Country[pais]}\\n\"\n",
    "            f\"Deaths: {Deaths[pais]}\\n\"\n",
    "            f\"Date: {Date[pais]}\\n\\n\")"
   ]
  },
  {
   "cell_type": "code",
   "execution_count": null,
   "metadata": {},
   "outputs": [],
   "source": [
    "df = pd.DataFrame()\n",
    "df[\"Country\"] = pd.Series(Country)\n",
    "df[\"CountryCode\"] = pd.Series(CountryCode)\n",
    "df[\"Province\"] = pd.Series(Province)\n",
    "df[\"City\"] = pd.Series(City)\n",
    "df[\"CityCode\"] = pd.Series(CityCode)\n",
    "df[\"Lat\"] = pd.Series(Lat)\n",
    "df[\"Lon\"] = pd.Series(Lon)\n",
    "df[\"Confirmed\"] = pd.Series(Confirmed)\n",
    "df[\"Deaths\"] = pd.Series(Deaths)\n",
    "df[\"Recovered\"] = pd.Series(Recovered)\n",
    "df[\"Active\"] = pd.Series(Active)\n",
    "df[\"Date\"] = pd.Series(Date, dtype='datetime64[ns]')"
   ]
  },
  {
   "cell_type": "code",
   "execution_count": null,
   "metadata": {},
   "outputs": [],
   "source": [
    "df.head(7)"
   ]
  },
  {
   "cell_type": "code",
   "execution_count": null,
   "metadata": {},
   "outputs": [],
   "source": [
    "df.to_csv('country.csv')"
   ]
  },
  {
   "cell_type": "code",
   "execution_count": null,
   "metadata": {},
   "outputs": [],
   "source": [
    "df.info()"
   ]
  },
  {
   "cell_type": "code",
   "execution_count": null,
   "metadata": {},
   "outputs": [],
   "source": [
    "df[df['CountryCode'] == 'BR']"
   ]
  },
  {
   "cell_type": "code",
   "execution_count": 10,
   "metadata": {},
   "outputs": [],
   "source": [
    "import retorno_api"
   ]
  },
  {
   "cell_type": "code",
   "execution_count": 11,
   "metadata": {},
   "outputs": [],
   "source": [
    "all_data = retorno_api.All_Data()"
   ]
  },
  {
   "cell_type": "code",
   "execution_count": 13,
   "metadata": {},
   "outputs": [
    {
     "output_type": "execute_result",
     "data": {
      "text/plain": [
       "<Response [404]>"
      ]
     },
     "metadata": {},
     "execution_count": 13
    }
   ],
   "source": [
    "raw = all_data.dados_raw()\n",
    "raw"
   ]
  },
  {
   "cell_type": "code",
   "execution_count": 102,
   "metadata": {},
   "outputs": [
    {
     "output_type": "error",
     "ename": "KeyError",
     "evalue": "0",
     "traceback": [
      "\u001b[0;31m---------------------------------------------------------------------------\u001b[0m",
      "\u001b[0;31mKeyError\u001b[0m                                  Traceback (most recent call last)",
      "\u001b[0;32m<ipython-input-102-345ffd8da071>\u001b[0m in \u001b[0;36m<module>\u001b[0;34m\u001b[0m\n\u001b[0;32m----> 1\u001b[0;31m \u001b[0mall_\u001b[0m \u001b[0;34m=\u001b[0m \u001b[0mall_data\u001b[0m\u001b[0;34m.\u001b[0m\u001b[0mretorna_dataframe\u001b[0m\u001b[0;34m(\u001b[0m\u001b[0;34m)\u001b[0m\u001b[0;34m\u001b[0m\u001b[0;34m\u001b[0m\u001b[0m\n\u001b[0m",
      "\u001b[0;32m/mnt/Arquivos/GitFiles/AccentureProject/Python/retorno_api.py\u001b[0m in \u001b[0;36mretorna_dataframe\u001b[0;34m(self)\u001b[0m\n\u001b[1;32m    107\u001b[0m \u001b[0;34m\u001b[0m\u001b[0m\n\u001b[1;32m    108\u001b[0m         \u001b[0;32mfor\u001b[0m \u001b[0mpais\u001b[0m \u001b[0;32min\u001b[0m \u001b[0mrange\u001b[0m\u001b[0;34m(\u001b[0m\u001b[0mlen\u001b[0m\u001b[0;34m(\u001b[0m\u001b[0mraw_json\u001b[0m\u001b[0;34m)\u001b[0m\u001b[0;34m)\u001b[0m\u001b[0;34m:\u001b[0m\u001b[0;34m\u001b[0m\u001b[0;34m\u001b[0m\u001b[0m\n\u001b[0;32m--> 109\u001b[0;31m             \u001b[0mCountry\u001b[0m\u001b[0;34m.\u001b[0m\u001b[0mappend\u001b[0m\u001b[0;34m(\u001b[0m\u001b[0mraw_json\u001b[0m\u001b[0;34m[\u001b[0m\u001b[0mpais\u001b[0m\u001b[0;34m]\u001b[0m\u001b[0;34m[\u001b[0m\u001b[0;34m'Country'\u001b[0m\u001b[0;34m]\u001b[0m\u001b[0;34m)\u001b[0m\u001b[0;34m\u001b[0m\u001b[0;34m\u001b[0m\u001b[0m\n\u001b[0m\u001b[1;32m    110\u001b[0m             \u001b[0mCountryCode\u001b[0m\u001b[0;34m.\u001b[0m\u001b[0mappend\u001b[0m\u001b[0;34m(\u001b[0m\u001b[0mraw_json\u001b[0m\u001b[0;34m[\u001b[0m\u001b[0mpais\u001b[0m\u001b[0;34m]\u001b[0m\u001b[0;34m[\u001b[0m\u001b[0;34m'CountryCode'\u001b[0m\u001b[0;34m]\u001b[0m\u001b[0;34m)\u001b[0m\u001b[0;34m\u001b[0m\u001b[0;34m\u001b[0m\u001b[0m\n\u001b[1;32m    111\u001b[0m             \u001b[0mLat\u001b[0m\u001b[0;34m.\u001b[0m\u001b[0mappend\u001b[0m\u001b[0;34m(\u001b[0m\u001b[0mraw_json\u001b[0m\u001b[0;34m[\u001b[0m\u001b[0mpais\u001b[0m\u001b[0;34m]\u001b[0m\u001b[0;34m[\u001b[0m\u001b[0;34m'Lat'\u001b[0m\u001b[0;34m]\u001b[0m\u001b[0;34m)\u001b[0m\u001b[0;34m\u001b[0m\u001b[0;34m\u001b[0m\u001b[0m\n",
      "\u001b[0;31mKeyError\u001b[0m: 0"
     ]
    }
   ],
   "source": [
    "all_ = all_data.retorna_dataframe()"
   ]
  },
  {
   "cell_type": "code",
   "execution_count": 96,
   "metadata": {},
   "outputs": [
    {
     "output_type": "error",
     "ename": "TypeError",
     "evalue": "'NoneType' object is not callable",
     "traceback": [
      "\u001b[0;31m---------------------------------------------------------------------------\u001b[0m",
      "\u001b[0;31mTypeError\u001b[0m                                 Traceback (most recent call last)",
      "\u001b[0;32m<ipython-input-96-6a5c6ef10ca1>\u001b[0m in \u001b[0;36m<module>\u001b[0;34m\u001b[0m\n\u001b[1;32m      3\u001b[0m \u001b[0m__headers\u001b[0m\u001b[0;34m=\u001b[0m \u001b[0;34m{\u001b[0m\u001b[0;34m}\u001b[0m\u001b[0;34m\u001b[0m\u001b[0;34m\u001b[0m\u001b[0m\n\u001b[1;32m      4\u001b[0m \u001b[0mret\u001b[0m \u001b[0;34m=\u001b[0m \u001b[0mrequests\u001b[0m\u001b[0;34m.\u001b[0m\u001b[0mRequest\u001b[0m\u001b[0;34m(\u001b[0m\u001b[0;34m\"GET\"\u001b[0m\u001b[0;34m,\u001b[0m \u001b[0murl\u001b[0m\u001b[0;34m=\u001b[0m\u001b[0murl\u001b[0m\u001b[0;34m,\u001b[0m \u001b[0mdata\u001b[0m\u001b[0;34m=\u001b[0m\u001b[0m__payload\u001b[0m\u001b[0;34m,\u001b[0m \u001b[0mheaders\u001b[0m\u001b[0;34m=\u001b[0m\u001b[0m__headers\u001b[0m\u001b[0;34m)\u001b[0m\u001b[0;34m\u001b[0m\u001b[0;34m\u001b[0m\u001b[0m\n\u001b[0;32m----> 5\u001b[0;31m \u001b[0mdados\u001b[0m \u001b[0;34m=\u001b[0m \u001b[0mret\u001b[0m\u001b[0;34m.\u001b[0m\u001b[0mjson\u001b[0m\u001b[0;34m(\u001b[0m\u001b[0;34m)\u001b[0m\u001b[0;34m\u001b[0m\u001b[0;34m\u001b[0m\u001b[0m\n\u001b[0m\u001b[1;32m      6\u001b[0m \u001b[0mdados\u001b[0m\u001b[0;34m\u001b[0m\u001b[0;34m\u001b[0m\u001b[0m\n",
      "\u001b[0;31mTypeError\u001b[0m: 'NoneType' object is not callable"
     ]
    }
   ],
   "source": [
    "url =  \"https://api.covid19api.com/world?from=2020-01-01T00:00:00Z&to=2021-03-06T00:00:00Z\"\n",
    "__payload = {}\n",
    "__headers= {}\n",
    "ret = requests.Request(\"GET\", url=url, data=__payload, headers=__headers)\n",
    "dados = ret.json()\n",
    "dados"
   ]
  },
  {
   "cell_type": "code",
   "execution_count": 68,
   "metadata": {},
   "outputs": [
    {
     "output_type": "execute_result",
     "data": {
      "text/plain": [
       "{'NewConfirmed': 302318,\n",
       " 'TotalConfirmed': 98428424,\n",
       " 'NewDeaths': 5903,\n",
       " 'TotalDeaths': 2110521,\n",
       " 'NewRecovered': 153660,\n",
       " 'TotalRecovered': 54060398,\n",
       " 'Date': '2021-01-25T23:57:44.489Z'}"
      ]
     },
     "metadata": {},
     "execution_count": 68
    }
   ],
   "source": [
    "dados[0]"
   ]
  },
  {
   "cell_type": "code",
   "execution_count": null,
   "metadata": {},
   "outputs": [],
   "source": []
  }
 ]
}